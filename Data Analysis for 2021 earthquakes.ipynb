{
 "cells": [
  {
   "cell_type": "code",
   "execution_count": 1,
   "id": "84abe214",
   "metadata": {},
   "outputs": [
    {
     "data": {
      "text/html": [
       "<div>\n",
       "<style scoped>\n",
       "    .dataframe tbody tr th:only-of-type {\n",
       "        vertical-align: middle;\n",
       "    }\n",
       "\n",
       "    .dataframe tbody tr th {\n",
       "        vertical-align: top;\n",
       "    }\n",
       "\n",
       "    .dataframe thead th {\n",
       "        text-align: right;\n",
       "    }\n",
       "</style>\n",
       "<table border=\"1\" class=\"dataframe\">\n",
       "  <thead>\n",
       "    <tr style=\"text-align: right;\">\n",
       "      <th></th>\n",
       "      <th>Time</th>\n",
       "      <th>Magnitude(M)</th>\n",
       "      <th>Latitude(°)</th>\n",
       "      <th>Longitude(°)</th>\n",
       "      <th>Depth(km)</th>\n",
       "      <th>Location</th>\n",
       "      <th>Longitude and Latitude</th>\n",
       "    </tr>\n",
       "  </thead>\n",
       "  <tbody>\n",
       "    <tr>\n",
       "      <th>0</th>\n",
       "      <td>2021-12-30 21:13:18</td>\n",
       "      <td>5.2</td>\n",
       "      <td>-0.25</td>\n",
       "      <td>125.35</td>\n",
       "      <td>40</td>\n",
       "      <td>印尼马鲁古海</td>\n",
       "      <td>125.35,-0.25</td>\n",
       "    </tr>\n",
       "    <tr>\n",
       "      <th>1</th>\n",
       "      <td>2021-12-30 14:47:07</td>\n",
       "      <td>5.1</td>\n",
       "      <td>23.90</td>\n",
       "      <td>122.50</td>\n",
       "      <td>20</td>\n",
       "      <td>台湾花莲县海域</td>\n",
       "      <td>122.5,23.9</td>\n",
       "    </tr>\n",
       "    <tr>\n",
       "      <th>2</th>\n",
       "      <td>2021-12-30 12:58:16</td>\n",
       "      <td>5.8</td>\n",
       "      <td>-55.75</td>\n",
       "      <td>-28.05</td>\n",
       "      <td>50</td>\n",
       "      <td>南桑威奇群岛</td>\n",
       "      <td>-28.05,-55.75</td>\n",
       "    </tr>\n",
       "    <tr>\n",
       "      <th>3</th>\n",
       "      <td>2021-12-30 05:30:22</td>\n",
       "      <td>4.9</td>\n",
       "      <td>36.92</td>\n",
       "      <td>94.67</td>\n",
       "      <td>10</td>\n",
       "      <td>青海海西州格尔木市</td>\n",
       "      <td>94.67,36.92</td>\n",
       "    </tr>\n",
       "    <tr>\n",
       "      <th>4</th>\n",
       "      <td>2021-12-30 02:25:52</td>\n",
       "      <td>7.5</td>\n",
       "      <td>-7.75</td>\n",
       "      <td>127.60</td>\n",
       "      <td>200</td>\n",
       "      <td>班达海</td>\n",
       "      <td>127.6,-7.75</td>\n",
       "    </tr>\n",
       "    <tr>\n",
       "      <th>...</th>\n",
       "      <td>...</td>\n",
       "      <td>...</td>\n",
       "      <td>...</td>\n",
       "      <td>...</td>\n",
       "      <td>...</td>\n",
       "      <td>...</td>\n",
       "      <td>...</td>\n",
       "    </tr>\n",
       "    <tr>\n",
       "      <th>1181</th>\n",
       "      <td>2021-01-03 08:34:37</td>\n",
       "      <td>3.0</td>\n",
       "      <td>24.69</td>\n",
       "      <td>117.70</td>\n",
       "      <td>28</td>\n",
       "      <td>福建漳州市长泰县</td>\n",
       "      <td>117.7,24.69</td>\n",
       "    </tr>\n",
       "    <tr>\n",
       "      <th>1182</th>\n",
       "      <td>2021-01-03 02:40:25</td>\n",
       "      <td>3.2</td>\n",
       "      <td>25.63</td>\n",
       "      <td>99.92</td>\n",
       "      <td>11</td>\n",
       "      <td>云南大理州漾濞县</td>\n",
       "      <td>99.92,25.63</td>\n",
       "    </tr>\n",
       "    <tr>\n",
       "      <th>1183</th>\n",
       "      <td>2021-01-02 21:26:47</td>\n",
       "      <td>4.4</td>\n",
       "      <td>24.07</td>\n",
       "      <td>122.24</td>\n",
       "      <td>24</td>\n",
       "      <td>台湾花莲县海域</td>\n",
       "      <td>122.24,24.07</td>\n",
       "    </tr>\n",
       "    <tr>\n",
       "      <th>1184</th>\n",
       "      <td>2021-01-02 04:24:34</td>\n",
       "      <td>3.5</td>\n",
       "      <td>36.86</td>\n",
       "      <td>94.62</td>\n",
       "      <td>9</td>\n",
       "      <td>青海海西州格尔木市</td>\n",
       "      <td>94.62,36.86</td>\n",
       "    </tr>\n",
       "    <tr>\n",
       "      <th>1185</th>\n",
       "      <td>2021-01-01 06:07:08</td>\n",
       "      <td>3.0</td>\n",
       "      <td>26.24</td>\n",
       "      <td>101.27</td>\n",
       "      <td>16</td>\n",
       "      <td>云南楚雄州大姚县</td>\n",
       "      <td>101.27,26.24</td>\n",
       "    </tr>\n",
       "  </tbody>\n",
       "</table>\n",
       "<p>1186 rows × 7 columns</p>\n",
       "</div>"
      ],
      "text/plain": [
       "                     Time  Magnitude(M)  Latitude(°)  Longitude(°)  Depth(km)  \\\n",
       "0     2021-12-30 21:13:18           5.2        -0.25        125.35         40   \n",
       "1     2021-12-30 14:47:07           5.1        23.90        122.50         20   \n",
       "2     2021-12-30 12:58:16           5.8       -55.75        -28.05         50   \n",
       "3     2021-12-30 05:30:22           4.9        36.92         94.67         10   \n",
       "4     2021-12-30 02:25:52           7.5        -7.75        127.60        200   \n",
       "...                   ...           ...          ...           ...        ...   \n",
       "1181  2021-01-03 08:34:37           3.0        24.69        117.70         28   \n",
       "1182  2021-01-03 02:40:25           3.2        25.63         99.92         11   \n",
       "1183  2021-01-02 21:26:47           4.4        24.07        122.24         24   \n",
       "1184  2021-01-02 04:24:34           3.5        36.86         94.62          9   \n",
       "1185  2021-01-01 06:07:08           3.0        26.24        101.27         16   \n",
       "\n",
       "       Location Longitude and Latitude  \n",
       "0        印尼马鲁古海           125.35,-0.25  \n",
       "1       台湾花莲县海域             122.5,23.9  \n",
       "2        南桑威奇群岛          -28.05,-55.75  \n",
       "3     青海海西州格尔木市            94.67,36.92  \n",
       "4           班达海            127.6,-7.75  \n",
       "...         ...                    ...  \n",
       "1181   福建漳州市长泰县            117.7,24.69  \n",
       "1182   云南大理州漾濞县            99.92,25.63  \n",
       "1183    台湾花莲县海域           122.24,24.07  \n",
       "1184  青海海西州格尔木市            94.62,36.86  \n",
       "1185   云南楚雄州大姚县           101.27,26.24  \n",
       "\n",
       "[1186 rows x 7 columns]"
      ]
     },
     "execution_count": 1,
     "metadata": {},
     "output_type": "execute_result"
    }
   ],
   "source": [
    "import pandas as pd\n",
    "data=pd.read_excel('Global earthquakes 2021 data.xlsx')\n",
    "data"
   ]
  },
  {
   "cell_type": "code",
   "execution_count": 2,
   "id": "e1acddba",
   "metadata": {},
   "outputs": [
    {
     "data": {
      "text/plain": [
       "count    1186.000000\n",
       "mean        4.308263\n",
       "std         1.271299\n",
       "min         1.100000\n",
       "25%         3.125000\n",
       "50%         4.000000\n",
       "75%         5.500000\n",
       "max         8.100000\n",
       "Name: Magnitude(M), dtype: float64"
      ]
     },
     "execution_count": 2,
     "metadata": {},
     "output_type": "execute_result"
    }
   ],
   "source": [
    "Magnitude=data['Magnitude(M)'].describe()\n",
    "Magnitude"
   ]
  },
  {
   "cell_type": "code",
   "execution_count": 3,
   "id": "797a7f0b",
   "metadata": {},
   "outputs": [
    {
     "data": {
      "text/plain": [
       "count    1186.000000\n",
       "mean       35.363406\n",
       "std        86.572057\n",
       "min         0.000000\n",
       "25%        10.000000\n",
       "50%        10.000000\n",
       "75%        18.000000\n",
       "max       600.000000\n",
       "Name: Depth(km), dtype: float64"
      ]
     },
     "execution_count": 3,
     "metadata": {},
     "output_type": "execute_result"
    }
   ],
   "source": [
    "Depth=data['Depth(km)'].describe()\n",
    "Depth"
   ]
  },
  {
   "cell_type": "code",
   "execution_count": 4,
   "id": "5c90dd06",
   "metadata": {},
   "outputs": [
    {
     "data": {
      "text/html": [
       "<div>\n",
       "<style scoped>\n",
       "    .dataframe tbody tr th:only-of-type {\n",
       "        vertical-align: middle;\n",
       "    }\n",
       "\n",
       "    .dataframe tbody tr th {\n",
       "        vertical-align: top;\n",
       "    }\n",
       "\n",
       "    .dataframe thead th {\n",
       "        text-align: right;\n",
       "    }\n",
       "</style>\n",
       "<table border=\"1\" class=\"dataframe\">\n",
       "  <thead>\n",
       "    <tr style=\"text-align: right;\">\n",
       "      <th></th>\n",
       "      <th>Magnitude(M)</th>\n",
       "      <th>Latitude(°)</th>\n",
       "      <th>Longitude(°)</th>\n",
       "      <th>Depth(km)</th>\n",
       "    </tr>\n",
       "  </thead>\n",
       "  <tbody>\n",
       "    <tr>\n",
       "      <th>count</th>\n",
       "      <td>1186.000000</td>\n",
       "      <td>1186.000000</td>\n",
       "      <td>1186.000000</td>\n",
       "      <td>1186.000000</td>\n",
       "    </tr>\n",
       "    <tr>\n",
       "      <th>mean</th>\n",
       "      <td>4.308263</td>\n",
       "      <td>21.990658</td>\n",
       "      <td>75.578938</td>\n",
       "      <td>35.363406</td>\n",
       "    </tr>\n",
       "    <tr>\n",
       "      <th>std</th>\n",
       "      <td>1.271299</td>\n",
       "      <td>24.354753</td>\n",
       "      <td>80.377949</td>\n",
       "      <td>86.572057</td>\n",
       "    </tr>\n",
       "    <tr>\n",
       "      <th>min</th>\n",
       "      <td>1.100000</td>\n",
       "      <td>-61.700000</td>\n",
       "      <td>-179.740000</td>\n",
       "      <td>0.000000</td>\n",
       "    </tr>\n",
       "    <tr>\n",
       "      <th>25%</th>\n",
       "      <td>3.125000</td>\n",
       "      <td>21.987500</td>\n",
       "      <td>80.860000</td>\n",
       "      <td>10.000000</td>\n",
       "    </tr>\n",
       "    <tr>\n",
       "      <th>50%</th>\n",
       "      <td>4.000000</td>\n",
       "      <td>30.340000</td>\n",
       "      <td>99.020000</td>\n",
       "      <td>10.000000</td>\n",
       "    </tr>\n",
       "    <tr>\n",
       "      <th>75%</th>\n",
       "      <td>5.500000</td>\n",
       "      <td>37.770000</td>\n",
       "      <td>115.885000</td>\n",
       "      <td>18.000000</td>\n",
       "    </tr>\n",
       "    <tr>\n",
       "      <th>max</th>\n",
       "      <td>8.100000</td>\n",
       "      <td>63.200000</td>\n",
       "      <td>179.710000</td>\n",
       "      <td>600.000000</td>\n",
       "    </tr>\n",
       "  </tbody>\n",
       "</table>\n",
       "</div>"
      ],
      "text/plain": [
       "       Magnitude(M)  Latitude(°)  Longitude(°)    Depth(km)\n",
       "count   1186.000000  1186.000000   1186.000000  1186.000000\n",
       "mean       4.308263    21.990658     75.578938    35.363406\n",
       "std        1.271299    24.354753     80.377949    86.572057\n",
       "min        1.100000   -61.700000   -179.740000     0.000000\n",
       "25%        3.125000    21.987500     80.860000    10.000000\n",
       "50%        4.000000    30.340000     99.020000    10.000000\n",
       "75%        5.500000    37.770000    115.885000    18.000000\n",
       "max        8.100000    63.200000    179.710000   600.000000"
      ]
     },
     "execution_count": 4,
     "metadata": {},
     "output_type": "execute_result"
    }
   ],
   "source": [
    "data=data.set_index('Time')\n",
    "data_all=data.describe()\n",
    "data_all"
   ]
  },
  {
   "cell_type": "code",
   "execution_count": 9,
   "id": "9b926c24",
   "metadata": {},
   "outputs": [
    {
     "name": "stdout",
     "output_type": "stream",
     "text": [
      "mean:4.308263069139967\n",
      "median:4.0\n",
      "mode:3.0\n"
     ]
    }
   ],
   "source": [
    "import pandas as pd\n",
    "a=pd.read_excel('Global earthquakes 2021 data.xlsx')\n",
    "from numpy import mean,median\n",
    "from scipy.stats import mode\n",
    "magmean=mean(a['Magnitude(M)'])\n",
    "print('mean:'+str(magmean))\n",
    "magmedian=median(a['Magnitude(M)'])\n",
    "print('median:'+str(magmedian))\n",
    "magmode=mode(a['Magnitude(M)'])[0][0]\n",
    "print('mode:'+str(magmode))"
   ]
  },
  {
   "cell_type": "markdown",
   "id": "497c71a5",
   "metadata": {},
   "source": [
    "from scipy.stats import mode\n",
    "magmode=mode(a['Magnitude(M)'])\n",
    "print('mode'+str(magmode))"
   ]
  },
  {
   "cell_type": "code",
   "execution_count": 10,
   "id": "8786cc25",
   "metadata": {},
   "outputs": [
    {
     "name": "stdout",
     "output_type": "stream",
     "text": [
      "mean:35.363406408094434\n",
      "median:10.0\n",
      "mode:10\n"
     ]
    }
   ],
   "source": [
    "import pandas as pd\n",
    "a=pd.read_excel('Global earthquakes 2021 data.xlsx')\n",
    "from numpy import mean,median\n",
    "from scipy.stats import mode\n",
    "depmean=mean(a['Depth(km)'])\n",
    "print('mean:'+str(depmean))\n",
    "depmedian=median(a['Depth(km)'])\n",
    "print('median:'+str(depmedian))\n",
    "depmode=mode(a['Depth(km)'])[0][0]\n",
    "print('mode:'+str(depmode))"
   ]
  },
  {
   "cell_type": "code",
   "execution_count": 11,
   "id": "6cdd4ec0",
   "metadata": {},
   "outputs": [
    {
     "name": "stdout",
     "output_type": "stream",
     "text": [
      "Var:1.6148389729531434\n",
      "Std:1.2707631458903517\n"
     ]
    }
   ],
   "source": [
    "import pandas as pd\n",
    "data=pd.read_excel('Global earthquakes 2021 data.xlsx')\n",
    "from numpy import var,std\n",
    "magvar=var(data['Magnitude(M)'])\n",
    "print('Var:'+str(magvar))\n",
    "magstd=std(data['Magnitude(M)'])\n",
    "print('Std:'+str(magstd))"
   ]
  },
  {
   "cell_type": "code",
   "execution_count": 12,
   "id": "333eed63",
   "metadata": {},
   "outputs": [
    {
     "name": "stdout",
     "output_type": "stream",
     "text": [
      "Var:7488.401662595372\n",
      "Std:86.53555143751828\n"
     ]
    }
   ],
   "source": [
    "import pandas as pd\n",
    "data=pd.read_excel('Global earthquakes 2021 data.xlsx')\n",
    "from numpy import var,std\n",
    "depvar=var(data['Depth(km)'])\n",
    "print('Var:'+str(depvar))\n",
    "depstd=std(data['Depth(km)'])\n",
    "print('Std:'+str(depstd))"
   ]
  },
  {
   "cell_type": "markdown",
   "id": "93092062",
   "metadata": {},
   "source": [
    "\n"
   ]
  },
  {
   "cell_type": "code",
   "execution_count": 35,
   "id": "63bd56f8",
   "metadata": {},
   "outputs": [
    {
     "name": "stdout",
     "output_type": "stream",
     "text": [
      "the correlation coeffcient r is0.29,the significant level p-value is0.0\n"
     ]
    }
   ],
   "source": [
    "import pandas as pd\n",
    "from scipy.stats import pearsonr\n",
    "data=pd.read_excel('Global earthquakes 2021 data.xlsx')\n",
    "corr=pearsonr(data['Depth(km)'],data['Magnitude(M)'])\n",
    "print('the correlation coeffcient r is'+str(corr[0].round(2))+',the significant level p-value is'+str(corr[1].round(2)))"
   ]
  },
  {
   "cell_type": "code",
   "execution_count": 36,
   "id": "c8dff8c9",
   "metadata": {},
   "outputs": [
    {
     "data": {
      "text/html": [
       "<div>\n",
       "<style scoped>\n",
       "    .dataframe tbody tr th:only-of-type {\n",
       "        vertical-align: middle;\n",
       "    }\n",
       "\n",
       "    .dataframe tbody tr th {\n",
       "        vertical-align: top;\n",
       "    }\n",
       "\n",
       "    .dataframe thead th {\n",
       "        text-align: right;\n",
       "    }\n",
       "</style>\n",
       "<table border=\"1\" class=\"dataframe\">\n",
       "  <thead>\n",
       "    <tr style=\"text-align: right;\">\n",
       "      <th></th>\n",
       "      <th>Magnitude(M)</th>\n",
       "      <th>Latitude(°)</th>\n",
       "      <th>Longitude(°)</th>\n",
       "      <th>Depth(km)</th>\n",
       "    </tr>\n",
       "  </thead>\n",
       "  <tbody>\n",
       "    <tr>\n",
       "      <th>Magnitude(M)</th>\n",
       "      <td>1.000000</td>\n",
       "      <td>-0.607534</td>\n",
       "      <td>-0.347479</td>\n",
       "      <td>0.289738</td>\n",
       "    </tr>\n",
       "    <tr>\n",
       "      <th>Latitude(°)</th>\n",
       "      <td>-0.607534</td>\n",
       "      <td>1.000000</td>\n",
       "      <td>0.337732</td>\n",
       "      <td>-0.237007</td>\n",
       "    </tr>\n",
       "    <tr>\n",
       "      <th>Longitude(°)</th>\n",
       "      <td>-0.347479</td>\n",
       "      <td>0.337732</td>\n",
       "      <td>1.000000</td>\n",
       "      <td>-0.175049</td>\n",
       "    </tr>\n",
       "    <tr>\n",
       "      <th>Depth(km)</th>\n",
       "      <td>0.289738</td>\n",
       "      <td>-0.237007</td>\n",
       "      <td>-0.175049</td>\n",
       "      <td>1.000000</td>\n",
       "    </tr>\n",
       "  </tbody>\n",
       "</table>\n",
       "</div>"
      ],
      "text/plain": [
       "              Magnitude(M)  Latitude(°)  Longitude(°)  Depth(km)\n",
       "Magnitude(M)      1.000000    -0.607534     -0.347479   0.289738\n",
       "Latitude(°)      -0.607534     1.000000      0.337732  -0.237007\n",
       "Longitude(°)     -0.347479     0.337732      1.000000  -0.175049\n",
       "Depth(km)         0.289738    -0.237007     -0.175049   1.000000"
      ]
     },
     "execution_count": 36,
     "metadata": {},
     "output_type": "execute_result"
    }
   ],
   "source": [
    "import pandas as pd\n",
    "data=pd.read_excel('Global earthquakes 2021 data.xlsx')\n",
    "data=data.set_index('Time')\n",
    "data.corr()"
   ]
  },
  {
   "cell_type": "code",
   "execution_count": 39,
   "id": "0f0cceaf",
   "metadata": {},
   "outputs": [
    {
     "data": {
      "text/html": [
       "<div>\n",
       "<style scoped>\n",
       "    .dataframe tbody tr th:only-of-type {\n",
       "        vertical-align: middle;\n",
       "    }\n",
       "\n",
       "    .dataframe tbody tr th {\n",
       "        vertical-align: top;\n",
       "    }\n",
       "\n",
       "    .dataframe thead th {\n",
       "        text-align: right;\n",
       "    }\n",
       "</style>\n",
       "<table border=\"1\" class=\"dataframe\">\n",
       "  <thead>\n",
       "    <tr style=\"text-align: right;\">\n",
       "      <th></th>\n",
       "      <th>Time</th>\n",
       "      <th>Magnitude(M)</th>\n",
       "      <th>Latitude(°)</th>\n",
       "      <th>Longitude(°)</th>\n",
       "      <th>Depth(km)</th>\n",
       "      <th>Location</th>\n",
       "      <th>Longitude and Latitude</th>\n",
       "    </tr>\n",
       "  </thead>\n",
       "  <tbody>\n",
       "    <tr>\n",
       "      <th>0</th>\n",
       "      <td>2021-12-30 21:13:18</td>\n",
       "      <td>5.2</td>\n",
       "      <td>-0.25</td>\n",
       "      <td>125.35</td>\n",
       "      <td>40</td>\n",
       "      <td>印尼马鲁古海</td>\n",
       "      <td>125.35,-0.25</td>\n",
       "    </tr>\n",
       "    <tr>\n",
       "      <th>1</th>\n",
       "      <td>2021-12-30 14:47:07</td>\n",
       "      <td>5.1</td>\n",
       "      <td>23.90</td>\n",
       "      <td>122.50</td>\n",
       "      <td>20</td>\n",
       "      <td>台湾花莲县海域</td>\n",
       "      <td>122.5,23.9</td>\n",
       "    </tr>\n",
       "    <tr>\n",
       "      <th>2</th>\n",
       "      <td>2021-12-30 12:58:16</td>\n",
       "      <td>5.8</td>\n",
       "      <td>-55.75</td>\n",
       "      <td>-28.05</td>\n",
       "      <td>50</td>\n",
       "      <td>南桑威奇群岛</td>\n",
       "      <td>-28.05,-55.75</td>\n",
       "    </tr>\n",
       "    <tr>\n",
       "      <th>3</th>\n",
       "      <td>2021-12-30 05:30:22</td>\n",
       "      <td>4.9</td>\n",
       "      <td>36.92</td>\n",
       "      <td>94.67</td>\n",
       "      <td>10</td>\n",
       "      <td>青海海西州格尔木市</td>\n",
       "      <td>94.67,36.92</td>\n",
       "    </tr>\n",
       "    <tr>\n",
       "      <th>4</th>\n",
       "      <td>2021-12-30 02:25:52</td>\n",
       "      <td>7.5</td>\n",
       "      <td>-7.75</td>\n",
       "      <td>127.60</td>\n",
       "      <td>200</td>\n",
       "      <td>班达海</td>\n",
       "      <td>127.6,-7.75</td>\n",
       "    </tr>\n",
       "    <tr>\n",
       "      <th>5</th>\n",
       "      <td>2021-12-29 13:08:05</td>\n",
       "      <td>5.6</td>\n",
       "      <td>34.55</td>\n",
       "      <td>25.05</td>\n",
       "      <td>60</td>\n",
       "      <td>希腊克里特岛附近海域</td>\n",
       "      <td>25.05,34.55</td>\n",
       "    </tr>\n",
       "    <tr>\n",
       "      <th>6</th>\n",
       "      <td>2021-12-29 11:57:36</td>\n",
       "      <td>5.5</td>\n",
       "      <td>54.55</td>\n",
       "      <td>170.55</td>\n",
       "      <td>30</td>\n",
       "      <td>阿留申群岛</td>\n",
       "      <td>170.55,54.55</td>\n",
       "    </tr>\n",
       "    <tr>\n",
       "      <th>7</th>\n",
       "      <td>2021-12-28 15:14:31</td>\n",
       "      <td>3.3</td>\n",
       "      <td>43.37</td>\n",
       "      <td>82.65</td>\n",
       "      <td>13</td>\n",
       "      <td>新疆伊犁州新源县</td>\n",
       "      <td>82.65,43.37</td>\n",
       "    </tr>\n",
       "    <tr>\n",
       "      <th>8</th>\n",
       "      <td>2021-12-27 21:31:09</td>\n",
       "      <td>5.5</td>\n",
       "      <td>35.38</td>\n",
       "      <td>74.89</td>\n",
       "      <td>10</td>\n",
       "      <td>克什米尔</td>\n",
       "      <td>74.89,35.38</td>\n",
       "    </tr>\n",
       "    <tr>\n",
       "      <th>9</th>\n",
       "      <td>2021-12-27 02:59:01</td>\n",
       "      <td>5.5</td>\n",
       "      <td>35.05</td>\n",
       "      <td>26.90</td>\n",
       "      <td>10</td>\n",
       "      <td>希腊克里特岛附近海域</td>\n",
       "      <td>26.9,35.05</td>\n",
       "    </tr>\n",
       "  </tbody>\n",
       "</table>\n",
       "</div>"
      ],
      "text/plain": [
       "                  Time  Magnitude(M)  Latitude(°)  Longitude(°)  Depth(km)  \\\n",
       "0  2021-12-30 21:13:18           5.2        -0.25        125.35         40   \n",
       "1  2021-12-30 14:47:07           5.1        23.90        122.50         20   \n",
       "2  2021-12-30 12:58:16           5.8       -55.75        -28.05         50   \n",
       "3  2021-12-30 05:30:22           4.9        36.92         94.67         10   \n",
       "4  2021-12-30 02:25:52           7.5        -7.75        127.60        200   \n",
       "5  2021-12-29 13:08:05           5.6        34.55         25.05         60   \n",
       "6  2021-12-29 11:57:36           5.5        54.55        170.55         30   \n",
       "7  2021-12-28 15:14:31           3.3        43.37         82.65         13   \n",
       "8  2021-12-27 21:31:09           5.5        35.38         74.89         10   \n",
       "9  2021-12-27 02:59:01           5.5        35.05         26.90         10   \n",
       "\n",
       "     Location Longitude and Latitude  \n",
       "0      印尼马鲁古海           125.35,-0.25  \n",
       "1     台湾花莲县海域             122.5,23.9  \n",
       "2      南桑威奇群岛          -28.05,-55.75  \n",
       "3   青海海西州格尔木市            94.67,36.92  \n",
       "4         班达海            127.6,-7.75  \n",
       "5  希腊克里特岛附近海域            25.05,34.55  \n",
       "6       阿留申群岛           170.55,54.55  \n",
       "7    新疆伊犁州新源县            82.65,43.37  \n",
       "8        克什米尔            74.89,35.38  \n",
       "9  希腊克里特岛附近海域             26.9,35.05  "
      ]
     },
     "execution_count": 39,
     "metadata": {},
     "output_type": "execute_result"
    }
   ],
   "source": [
    "import pandas as pd\n",
    "data=pd.read_excel('Global earthquakes 2021 data.xlsx')\n",
    "data=data.fillna(0)\n",
    "data.head(10)"
   ]
  },
  {
   "cell_type": "code",
   "execution_count": 40,
   "id": "b4492437",
   "metadata": {},
   "outputs": [
    {
     "data": {
      "text/plain": [
       "0.0839"
      ]
     },
     "execution_count": 40,
     "metadata": {},
     "output_type": "execute_result"
    }
   ],
   "source": [
    "from sklearn.linear_model import LinearRegression\n",
    "Model=LinearRegression()\n",
    "X=data[['Magnitude(M)']]\n",
    "Y=data[['Depth(km)']]\n",
    "Model.fit(X,Y)\n",
    "fit_score=Model.score(X,Y)\n",
    "round(fit_score,4)\n"
   ]
  },
  {
   "cell_type": "code",
   "execution_count": 41,
   "id": "910c721e",
   "metadata": {},
   "outputs": [
    {
     "name": "stdout",
     "output_type": "stream",
     "text": [
      "0    19.73\n",
      "dtype: float64\n",
      "0   -49.64\n",
      "dtype: float64\n"
     ]
    }
   ],
   "source": [
    "a=Model.coef_[0]\n",
    "b=Model.intercept_\n",
    "a=pd.Series(a)\n",
    "b=pd.Series(b)\n",
    "print(round(a,2))\n",
    "print(round(b,2))\n",
    "\n"
   ]
  },
  {
   "cell_type": "code",
   "execution_count": 43,
   "id": "781ea3a0",
   "metadata": {},
   "outputs": [
    {
     "name": "stdout",
     "output_type": "stream",
     "text": [
      "[[49.01161513]]\n"
     ]
    },
    {
     "name": "stderr",
     "output_type": "stream",
     "text": [
      "/Library/Frameworks/Python.framework/Versions/3.10/lib/python3.10/site-packages/sklearn/base.py:450: UserWarning: X does not have valid feature names, but LinearRegression was fitted with feature names\n",
      "  warnings.warn(\n"
     ]
    }
   ],
   "source": [
    "import pandas as pd\n",
    "from sklearn.linear_model import LinearRegression\n",
    "data=pd.read_excel('Global earthquakes 2021 data.xlsx')\n",
    "data=data.fillna(0)\n",
    "X=data[['Magnitude(M)']]\n",
    "Y=data[['Depth(km)']]\n",
    "Model=LinearRegression()\n",
    "Model.fit(X,Y)\n",
    "y=Model.predict([[5]])\n",
    "print(y)\n"
   ]
  },
  {
   "cell_type": "code",
   "execution_count": 1,
   "id": "fb0f3fcc",
   "metadata": {},
   "outputs": [
    {
     "ename": "AttributeError",
     "evalue": "'DataFrame' object has no attribute 'dropha'",
     "output_type": "error",
     "traceback": [
      "\u001b[0;31m---------------------------------------------------------------------------\u001b[0m",
      "\u001b[0;31mAttributeError\u001b[0m                            Traceback (most recent call last)",
      "Input \u001b[0;32mIn [1]\u001b[0m, in \u001b[0;36m<module>\u001b[0;34m\u001b[0m\n\u001b[1;32m      2\u001b[0m data\u001b[38;5;241m=\u001b[39mpd\u001b[38;5;241m.\u001b[39mread_excel(\u001b[38;5;124m'\u001b[39m\u001b[38;5;124mGlobal earthquakes 2021 data.xlsx\u001b[39m\u001b[38;5;124m'\u001b[39m)\n\u001b[1;32m      3\u001b[0m pd\u001b[38;5;241m.\u001b[39mset_option(\u001b[38;5;124m'\u001b[39m\u001b[38;5;124mdisplay.unicode.east_asian_width\u001b[39m\u001b[38;5;124m'\u001b[39m,\u001b[38;5;28;01mTrue\u001b[39;00m)\n\u001b[0;32m----> 4\u001b[0m \u001b[43mdata\u001b[49m\u001b[38;5;241;43m.\u001b[39;49m\u001b[43mdropha\u001b[49m(inplace\u001b[38;5;241m=\u001b[39m\u001b[38;5;28;01mTrue\u001b[39;00m)\n\u001b[1;32m      6\u001b[0m x\u001b[38;5;241m=\u001b[39mdata\u001b[38;5;241m.\u001b[39mloc[:,[\u001b[38;5;124m'\u001b[39m\u001b[38;5;124mMagnitude(M)\u001b[39m\u001b[38;5;124m'\u001b[39m,\u001b[38;5;124m'\u001b[39m\u001b[38;5;124mDepth(km)\u001b[39m\u001b[38;5;124m'\u001b[39m]]\n\u001b[1;32m      7\u001b[0m y\u001b[38;5;241m=\u001b[39mdata[\u001b[38;5;124m'\u001b[39m\u001b[38;5;124mTime\u001b[39m\u001b[38;5;124m'\u001b[39m]\n",
      "File \u001b[0;32m/Library/Frameworks/Python.framework/Versions/3.10/lib/python3.10/site-packages/pandas/core/generic.py:5583\u001b[0m, in \u001b[0;36mNDFrame.__getattr__\u001b[0;34m(self, name)\u001b[0m\n\u001b[1;32m   5576\u001b[0m \u001b[38;5;28;01mif\u001b[39;00m (\n\u001b[1;32m   5577\u001b[0m     name \u001b[38;5;129;01mnot\u001b[39;00m \u001b[38;5;129;01min\u001b[39;00m \u001b[38;5;28mself\u001b[39m\u001b[38;5;241m.\u001b[39m_internal_names_set\n\u001b[1;32m   5578\u001b[0m     \u001b[38;5;129;01mand\u001b[39;00m name \u001b[38;5;129;01mnot\u001b[39;00m \u001b[38;5;129;01min\u001b[39;00m \u001b[38;5;28mself\u001b[39m\u001b[38;5;241m.\u001b[39m_metadata\n\u001b[1;32m   5579\u001b[0m     \u001b[38;5;129;01mand\u001b[39;00m name \u001b[38;5;129;01mnot\u001b[39;00m \u001b[38;5;129;01min\u001b[39;00m \u001b[38;5;28mself\u001b[39m\u001b[38;5;241m.\u001b[39m_accessors\n\u001b[1;32m   5580\u001b[0m     \u001b[38;5;129;01mand\u001b[39;00m \u001b[38;5;28mself\u001b[39m\u001b[38;5;241m.\u001b[39m_info_axis\u001b[38;5;241m.\u001b[39m_can_hold_identifiers_and_holds_name(name)\n\u001b[1;32m   5581\u001b[0m ):\n\u001b[1;32m   5582\u001b[0m     \u001b[38;5;28;01mreturn\u001b[39;00m \u001b[38;5;28mself\u001b[39m[name]\n\u001b[0;32m-> 5583\u001b[0m \u001b[38;5;28;01mreturn\u001b[39;00m \u001b[38;5;28;43mobject\u001b[39;49m\u001b[38;5;241;43m.\u001b[39;49m\u001b[38;5;21;43m__getattribute__\u001b[39;49m\u001b[43m(\u001b[49m\u001b[38;5;28;43mself\u001b[39;49m\u001b[43m,\u001b[49m\u001b[43m \u001b[49m\u001b[43mname\u001b[49m\u001b[43m)\u001b[49m\n",
      "\u001b[0;31mAttributeError\u001b[0m: 'DataFrame' object has no attribute 'dropha'"
     ]
    }
   ],
   "source": [
    "import pandas as pd\n",
    "data=pd.read_excel('Global earthquakes 2021 data.xlsx')\n",
    "pd.set_option('display.unicode.east_asian_width',True)\n",
    "data.dropha(inplace=True)\n",
    "\n",
    "x=data.loc[:,['Magnitude(M)','Depth(km)']]\n",
    "y=data['Time']\n",
    "\n",
    "from sklearn.model_selection import train_test_split\n",
    "x_train, x_test, y_train, y_test=train_test_split(x,y,test_size=0.2,random_state=123)\n",
    "\n",
    "from lightgbm import LGBMRegressor\n",
    "model=LGBMRegressor()\n",
    "model.fit(x_train,y_train)\n",
    "\n",
    "y_pred=model.predict(x_test)\n",
    "a=pd.Dataframe()\n",
    "a['Forecast']=list(y_pred)\n",
    "a['real']=list(y_test)\n",
    "\n",
    "x=[15000, 60, 160000000]\n",
    "model.predict(x)\n",
    "\n",
    "\n",
    "\n"
   ]
  },
  {
   "cell_type": "code",
   "execution_count": 26,
   "id": "6634d81a",
   "metadata": {},
   "outputs": [
    {
     "ename": "AttributeError",
     "evalue": "'DataFrame' object has no attribute 'Depth'",
     "output_type": "error",
     "traceback": [
      "\u001b[0;31m---------------------------------------------------------------------------\u001b[0m",
      "\u001b[0;31mAttributeError\u001b[0m                            Traceback (most recent call last)",
      "Input \u001b[0;32mIn [26]\u001b[0m, in \u001b[0;36m<module>\u001b[0;34m\u001b[0m\n\u001b[1;32m      1\u001b[0m \u001b[38;5;28;01mimport\u001b[39;00m \u001b[38;5;21;01mseaborn\u001b[39;00m \u001b[38;5;28;01mas\u001b[39;00m \u001b[38;5;21;01msns\u001b[39;00m \n\u001b[0;32m----> 2\u001b[0m sns\u001b[38;5;241m.\u001b[39mregplot(\u001b[43mdata\u001b[49m\u001b[38;5;241;43m.\u001b[39;49m\u001b[43m \u001b[49m\u001b[43mDepth\u001b[49m, data\u001b[38;5;241m.\u001b[39m Magnitude)\n",
      "File \u001b[0;32m/Library/Frameworks/Python.framework/Versions/3.10/lib/python3.10/site-packages/pandas/core/generic.py:5583\u001b[0m, in \u001b[0;36mNDFrame.__getattr__\u001b[0;34m(self, name)\u001b[0m\n\u001b[1;32m   5576\u001b[0m \u001b[38;5;28;01mif\u001b[39;00m (\n\u001b[1;32m   5577\u001b[0m     name \u001b[38;5;129;01mnot\u001b[39;00m \u001b[38;5;129;01min\u001b[39;00m \u001b[38;5;28mself\u001b[39m\u001b[38;5;241m.\u001b[39m_internal_names_set\n\u001b[1;32m   5578\u001b[0m     \u001b[38;5;129;01mand\u001b[39;00m name \u001b[38;5;129;01mnot\u001b[39;00m \u001b[38;5;129;01min\u001b[39;00m \u001b[38;5;28mself\u001b[39m\u001b[38;5;241m.\u001b[39m_metadata\n\u001b[1;32m   5579\u001b[0m     \u001b[38;5;129;01mand\u001b[39;00m name \u001b[38;5;129;01mnot\u001b[39;00m \u001b[38;5;129;01min\u001b[39;00m \u001b[38;5;28mself\u001b[39m\u001b[38;5;241m.\u001b[39m_accessors\n\u001b[1;32m   5580\u001b[0m     \u001b[38;5;129;01mand\u001b[39;00m \u001b[38;5;28mself\u001b[39m\u001b[38;5;241m.\u001b[39m_info_axis\u001b[38;5;241m.\u001b[39m_can_hold_identifiers_and_holds_name(name)\n\u001b[1;32m   5581\u001b[0m ):\n\u001b[1;32m   5582\u001b[0m     \u001b[38;5;28;01mreturn\u001b[39;00m \u001b[38;5;28mself\u001b[39m[name]\n\u001b[0;32m-> 5583\u001b[0m \u001b[38;5;28;01mreturn\u001b[39;00m \u001b[38;5;28;43mobject\u001b[39;49m\u001b[38;5;241;43m.\u001b[39;49m\u001b[38;5;21;43m__getattribute__\u001b[39;49m\u001b[43m(\u001b[49m\u001b[38;5;28;43mself\u001b[39;49m\u001b[43m,\u001b[49m\u001b[43m \u001b[49m\u001b[43mname\u001b[49m\u001b[43m)\u001b[49m\n",
      "\u001b[0;31mAttributeError\u001b[0m: 'DataFrame' object has no attribute 'Depth'"
     ]
    }
   ],
   "source": [
    " import seaborn as sns \n",
    "sns.regplot(data. Depth, data. Magnitude)"
   ]
  },
  {
   "cell_type": "code",
   "execution_count": 27,
   "id": "1c6c0d1f",
   "metadata": {},
   "outputs": [
    {
     "data": {
      "text/plain": [
       "0       False\n",
       "1       False\n",
       "2       False\n",
       "3       False\n",
       "4       False\n",
       "        ...  \n",
       "1181    False\n",
       "1182    False\n",
       "1183    False\n",
       "1184    False\n",
       "1185    False\n",
       "Length: 1186, dtype: bool"
      ]
     },
     "execution_count": 27,
     "metadata": {},
     "output_type": "execute_result"
    }
   ],
   "source": [
    "data.duplicated()"
   ]
  },
  {
   "cell_type": "code",
   "execution_count": 11,
   "id": "360f6f6e",
   "metadata": {},
   "outputs": [
    {
     "data": {
      "text/html": [
       "<div>\n",
       "<style scoped>\n",
       "    .dataframe tbody tr th:only-of-type {\n",
       "        vertical-align: middle;\n",
       "    }\n",
       "\n",
       "    .dataframe tbody tr th {\n",
       "        vertical-align: top;\n",
       "    }\n",
       "\n",
       "    .dataframe thead th {\n",
       "        text-align: right;\n",
       "    }\n",
       "</style>\n",
       "<table border=\"1\" class=\"dataframe\">\n",
       "  <thead>\n",
       "    <tr style=\"text-align: right;\">\n",
       "      <th></th>\n",
       "      <th>Time</th>\n",
       "      <th>Magnitude(M)</th>\n",
       "      <th>Latitude(°)</th>\n",
       "      <th>Longitude(°)</th>\n",
       "      <th>Depth(km)</th>\n",
       "      <th>Location</th>\n",
       "      <th>Longitude and Latitude</th>\n",
       "    </tr>\n",
       "  </thead>\n",
       "  <tbody>\n",
       "    <tr>\n",
       "      <th>0</th>\n",
       "      <td>2021-12-30 21:13:18</td>\n",
       "      <td>5.2</td>\n",
       "      <td>-0.25</td>\n",
       "      <td>125.35</td>\n",
       "      <td>40</td>\n",
       "      <td>印尼马鲁古海</td>\n",
       "      <td>125.35,-0.25</td>\n",
       "    </tr>\n",
       "    <tr>\n",
       "      <th>1</th>\n",
       "      <td>2021-12-30 14:47:07</td>\n",
       "      <td>5.1</td>\n",
       "      <td>23.90</td>\n",
       "      <td>122.50</td>\n",
       "      <td>20</td>\n",
       "      <td>台湾花莲县海域</td>\n",
       "      <td>122.5,23.9</td>\n",
       "    </tr>\n",
       "    <tr>\n",
       "      <th>2</th>\n",
       "      <td>2021-12-30 12:58:16</td>\n",
       "      <td>5.8</td>\n",
       "      <td>-55.75</td>\n",
       "      <td>-28.05</td>\n",
       "      <td>50</td>\n",
       "      <td>南桑威奇群岛</td>\n",
       "      <td>-28.05,-55.75</td>\n",
       "    </tr>\n",
       "    <tr>\n",
       "      <th>3</th>\n",
       "      <td>2021-12-30 05:30:22</td>\n",
       "      <td>4.9</td>\n",
       "      <td>36.92</td>\n",
       "      <td>94.67</td>\n",
       "      <td>10</td>\n",
       "      <td>青海海西州格尔木市</td>\n",
       "      <td>94.67,36.92</td>\n",
       "    </tr>\n",
       "    <tr>\n",
       "      <th>4</th>\n",
       "      <td>2021-12-30 02:25:52</td>\n",
       "      <td>7.5</td>\n",
       "      <td>-7.75</td>\n",
       "      <td>127.60</td>\n",
       "      <td>200</td>\n",
       "      <td>班达海</td>\n",
       "      <td>127.6,-7.75</td>\n",
       "    </tr>\n",
       "  </tbody>\n",
       "</table>\n",
       "</div>"
      ],
      "text/plain": [
       "                  Time  Magnitude(M)  Latitude(°)  Longitude(°)  Depth(km)  \\\n",
       "0  2021-12-30 21:13:18           5.2        -0.25        125.35         40   \n",
       "1  2021-12-30 14:47:07           5.1        23.90        122.50         20   \n",
       "2  2021-12-30 12:58:16           5.8       -55.75        -28.05         50   \n",
       "3  2021-12-30 05:30:22           4.9        36.92         94.67         10   \n",
       "4  2021-12-30 02:25:52           7.5        -7.75        127.60        200   \n",
       "\n",
       "    Location Longitude and Latitude  \n",
       "0     印尼马鲁古海           125.35,-0.25  \n",
       "1    台湾花莲县海域             122.5,23.9  \n",
       "2     南桑威奇群岛          -28.05,-55.75  \n",
       "3  青海海西州格尔木市            94.67,36.92  \n",
       "4        班达海            127.6,-7.75  "
      ]
     },
     "execution_count": 11,
     "metadata": {},
     "output_type": "execute_result"
    }
   ],
   "source": [
    "data=pd.DataFrame(pd.read_excel('earthquake.xlsx'))\n",
    "data.head()"
   ]
  },
  {
   "cell_type": "code",
   "execution_count": 20,
   "id": "fb9ad2c8",
   "metadata": {},
   "outputs": [
    {
     "name": "stdout",
     "output_type": "stream",
     "text": [
      "                  Time  Magnitude(M)  Latitude(°)  Longitude(°)  Depth(km)  \\\n",
      "0  2021-12-30 21:13:18           5.2        -0.25        125.35         40   \n",
      "1  2021-12-30 14:47:07           5.1        23.90        122.50         20   \n",
      "2  2021-12-30 12:58:16           5.8       -55.75        -28.05         50   \n",
      "3  2021-12-30 05:30:22           4.9        36.92         94.67         10   \n",
      "4  2021-12-30 02:25:52           7.5        -7.75        127.60        200   \n",
      "\n",
      "    Location Longitude and Latitude  \n",
      "0     印尼马鲁古海           125.35,-0.25  \n",
      "1    台湾花莲县海域             122.5,23.9  \n",
      "2     南桑威奇群岛          -28.05,-55.75  \n",
      "3  青海海西州格尔木市            94.67,36.92  \n",
      "4        班达海            127.6,-7.75  \n"
     ]
    }
   ],
   "source": [
    "df=pd.DataFrame(pd.read_excel('earthquake.xlsx'))\n",
    "print(df.head())"
   ]
  },
  {
   "cell_type": "code",
   "execution_count": null,
   "id": "4f5799a1",
   "metadata": {},
   "outputs": [],
   "source": []
  }
 ],
 "metadata": {
  "kernelspec": {
   "display_name": "Python 3 (ipykernel)",
   "language": "python",
   "name": "python3"
  },
  "language_info": {
   "codemirror_mode": {
    "name": "ipython",
    "version": 3
   },
   "file_extension": ".py",
   "mimetype": "text/x-python",
   "name": "python",
   "nbconvert_exporter": "python",
   "pygments_lexer": "ipython3",
   "version": "3.10.0"
  }
 },
 "nbformat": 4,
 "nbformat_minor": 5
}
